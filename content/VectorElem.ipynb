{
 "cells": [
  {
   "cell_type": "markdown",
   "id": "4d2b92db",
   "metadata": {},
   "source": [
    "# Vector elements in 2D\n"
   ]
  },
  {
   "cell_type": "markdown",
   "id": "dd3a1c4f",
   "metadata": {},
   "source": [
    "The finite element spaces we have seen so far, such as  the Lagrange, the DG, and the nonconforming finite element spaces, are all spaces of *scalar*-valued functions. How can we approximate  *vector fields*?  We could certainly use a Cartesian product of  scalar finite element spaces to approximate a vector field component by component. However, better properties can often be obtained using tailored vector finite element spaces, such as the *Raviart-Thomas* (RT) space or the *Nedelec* space. In this notebook we see how to access these spaces in ngsolve and compute with them."
   ]
  },
  {
   "cell_type": "markdown",
   "id": "cc1eb500",
   "metadata": {},
   "source": [
    "## The Raviart-Thomas space"
   ]
  },
  {
   "cell_type": "markdown",
   "id": "1abc5232-699e-4a4b-a3c1-fdfe301930c9",
   "metadata": {},
   "source": [
    "$\\newcommand{\\om}{\\varOmega}\n",
    "\\newcommand{\\oh}{\\varOmega_h}\n",
    "\\newcommand{\\dive}{\\mathop{\\mathrm{div}}}\n",
    "\\newcommand{\\grad}{\\mathop{\\mathrm{grad}}}\n",
    "\\renewcommand{\\div}{\\mathop{\\mathrm{div}}}\n",
    "\\newcommand{\\R}{\\mathbb{R}}\n",
    "\\newcommand{\\jump}{\\mathop{\\mathrm{jump}}}\n",
    "$\n",
    "Consider a facet $F$ shared by two adjacent elements $K^\\pm$ in two-dimensional mesh $\\oh$ of a domain $\\om$. In a [previous](BestApprox.ipynb) notebook, we examined jumps of a scalar piecewise function $w$ on the mesh, written as &LeftDoubleBracket; $ w$ &RightDoubleBracket; or simply $\\jump(w)$. Here, we consider jumps of the normal component of a piecewise smooth *vector* field $q: \\om \\to \\R^2$ across the facet $F$. Define &LeftDoubleBracket; $q\\cdot n$ &RightDoubleBracket;, also denoted by $\\jump(q\\cdot n)$, by \n",
    "\n",
    "$$\\tag{1}\n",
    "\\jump(q \\cdot n)|_F := \\Big(q|_{K^+} \\cdot n_+ + q|_{K^-} \\cdot n_-\\Big) \\Big|_F,\n",
    "$$\n",
    "\n",
    "where $n^\\pm$ denote the outward unit normal on the boundary of the element $K^\\pm$. Since the sign of $n_+$  and $n_-$ are opposite on $F$, this indeed measures the discontinuity in the normal component of $q$. This definition, facet by facet, defines the *normal jump* function $\\jump(q \\cdot n)$ of the vector field $q$ on the union of all interior facets. (Note that this jump definition if independent of the facet orientation.)\n",
    "\n",
    "```{index} jump; of normal component\n",
    "```\n",
    "\n",
    "```{index} jump; orientation-independent definition\n",
    "```"
   ]
  },
  {
   "cell_type": "markdown",
   "id": "3635cd43",
   "metadata": {},
   "source": [
    "The Raviart-Thomas (RT) finite element space on a two-dimensional mesh $\\newcommand{\\oh}{\\varOmega_h}$ $\\oh$ (of a domain $\\newcommand{\\om}{\\varOmega} \\om$) is defined by \n",
    "\n",
    "$$\n",
    "\\begin{aligned}\n",
    "R_{hp} =\n",
    "\\Big\\{\n",
    "q : \\; \\newcommand{\\jump}{\\mathop{\\mathrm{jump}}}\n",
    " & q|_K \\in P_p(K)^2 + \\begin{pmatrix} x \\\\ y \\end{pmatrix} P_p(K) \\;\n",
    " \\text{ on all mesh elements } K, \n",
    "\\\\ \n",
    "&\\text{ and } \\jump(q\\cdot n) =0  \\text{ on all interior mesh facets}\n",
    " \\Big\\}\n",
    "\\end{aligned}\n",
    "$$\n",
    "\n",
    "for any $p \\ge 0$. Here, $P_p(K)$ denote the set of polynomials of degree at most $p$. From the definition, it is clear  that  plots of any function in the RT space should show a possibly discontinuous vector field with a *continuously varying normal component* across the interior mesh facets."
   ]
  },
  {
   "cell_type": "markdown",
   "id": "a4c9c359",
   "metadata": {},
   "source": [
    "The continuity of the normal component is a useful property to have when we know that the  function being approximated has that same normal continuity property. *Fluxes*, such as the flux of a fluid flow, current flow, or magnetic flux,  are examples of vector fields whose normal components  remain continuous across a material interface, even when its other components jump across the interface."
   ]
  },
  {
   "cell_type": "markdown",
   "id": "86a6e6b6",
   "metadata": {},
   "source": [
    "### Approximation\n",
    "\n",
    "Consider approximating the following vector field  using the RT space:  \n",
    "\n",
    "$$\n",
    "q = \n",
    "\\left\\{\n",
    "\\begin{aligned}\n",
    "& (\\sin(x), y),  && x \\le 1/2,\n",
    "\\\\\n",
    "& (\\sin(x), 1-y), && x > 1/2.\n",
    "\\end{aligned}\n",
    "\\right.\n",
    "$$\n",
    "\n",
    "Across the interface $x=1/2$, its normal component (the $x$-component in this case) is continuous, while its tangential component is discontinuous. Let's plot $q$ after making two subdomains to the left and right of the $x=1/2$ line. "
   ]
  },
  {
   "cell_type": "code",
   "execution_count": 1,
   "id": "9cb91f34-9d6f-4b43-bbf3-a4feb7c3561a",
   "metadata": {},
   "outputs": [
    {
     "data": {
      "application/vnd.jupyter.widget-view+json": {
       "model_id": "a07e40679526449f89ca62b553529555",
       "version_major": 2,
       "version_minor": 0
      },
      "text/plain": [
       "WebGuiWidget(layout=Layout(height='50vh', width='100%'), value={'ngsolve_version': 'Netgen x.x', 'mesh_dim': 3…"
      ]
     },
     "metadata": {},
     "output_type": "display_data"
    }
   ],
   "source": [
    "import ngsolve as ng\n",
    "import numpy as np\n",
    "from ngsolve.webgui import Draw\n",
    "from netgen.occ import OCCGeometry ,WorkPlane, Rectangle, Glue\n",
    "from ngsolve import x, y, sin, cos, GridFunction, div, curl\n",
    "\n",
    "wp = WorkPlane()  # Make left and right subdomains\n",
    "lft = wp.Rectangle(1/2, 1).Face()\n",
    "rgt = wp.MoveTo(1/2,0).Rectangle(1/2, 1).Face()\n",
    "lft.faces.name = 'lft'; rgt.faces.name = 'rgt'\n",
    "\n",
    "geo = Glue([lft,rgt])\n",
    "Draw(geo);\n",
    "mesh = ng.Mesh(OCCGeometry(geo, dim=2).GenerateMesh(maxh=1/4))"
   ]
  },
  {
   "cell_type": "markdown",
   "id": "f9c597b2-4bab-41f0-859f-f14ef774b035",
   "metadata": {},
   "source": [
    "We make the needed piecewise constant coefficient function using the `MaterialCF` method in ngsolve.\n",
    "\n",
    "```{index} piecewise constant; subdomain by subdomain\n",
    "```"
   ]
  },
  {
   "cell_type": "code",
   "execution_count": 2,
   "id": "407439b8-fbd9-4368-8daa-20394077a02d",
   "metadata": {},
   "outputs": [],
   "source": [
    "q = mesh.MaterialCF({'lft': (sin(x), y),   # Piecewise q on the left & right subdomains\n",
    "                     'rgt': (sin(x), 1-y)})"
   ]
  },
  {
   "cell_type": "markdown",
   "id": "519589af",
   "metadata": {},
   "source": [
    "The normal component (which is the $x$ component in this case) of $q$ is smooth:"
   ]
  },
  {
   "cell_type": "code",
   "execution_count": 3,
   "id": "c704fe44",
   "metadata": {},
   "outputs": [
    {
     "data": {
      "application/vnd.jupyter.widget-view+json": {
       "model_id": "0d5d91d654574e1e9e80876e5c95e430",
       "version_major": 2,
       "version_minor": 0
      },
      "text/plain": [
       "WebGuiWidget(layout=Layout(height='50vh', width='100%'), value={'gui_settings': {}, 'ngsolve_version': '6.2.25…"
      ]
     },
     "metadata": {},
     "output_type": "display_data"
    }
   ],
   "source": [
    "Draw(q[0], mesh);"
   ]
  },
  {
   "cell_type": "markdown",
   "id": "4b5f075e",
   "metadata": {},
   "source": [
    "The tangential component of $q$ is discontinuous across the middle interface."
   ]
  },
  {
   "cell_type": "code",
   "execution_count": 4,
   "id": "ef56975d",
   "metadata": {},
   "outputs": [
    {
     "data": {
      "application/vnd.jupyter.widget-view+json": {
       "model_id": "9f398b12dbfc4a6493eb3dd13b6b2622",
       "version_major": 2,
       "version_minor": 0
      },
      "text/plain": [
       "WebGuiWidget(layout=Layout(height='50vh', width='100%'), value={'gui_settings': {}, 'ngsolve_version': '6.2.25…"
      ]
     },
     "metadata": {},
     "output_type": "display_data"
    }
   ],
   "source": [
    "Draw(q[1], mesh);"
   ]
  },
  {
   "cell_type": "markdown",
   "id": "220b67a3",
   "metadata": {},
   "source": [
    "We can also plot $q$ as a vector field."
   ]
  },
  {
   "cell_type": "code",
   "execution_count": 5,
   "id": "534b46a3",
   "metadata": {},
   "outputs": [
    {
     "data": {
      "application/vnd.jupyter.widget-view+json": {
       "model_id": "ed2e8e9fe1ee47a88eee15e9281fcd02",
       "version_major": 2,
       "version_minor": 0
      },
      "text/plain": [
       "WebGuiWidget(layout=Layout(height='50vh', width='100%'), value={'gui_settings': {}, 'ngsolve_version': '6.2.25…"
      ]
     },
     "metadata": {},
     "output_type": "display_data"
    }
   ],
   "source": [
    "Draw(q, mesh, vectors={'grid_size': 15});"
   ]
  },
  {
   "cell_type": "markdown",
   "id": "91bdbafb",
   "metadata": {},
   "source": [
    "If we try to interpolate such a function using a product of Lagrange spaces, then the discontinuity at the interface will generate large interpolation errors. (We have [already seen](BestApprox.ipynb) a similar phenomena around discontinuities of scalar function approximation.)  Instead, knowing that the normal component is continuous, we can try to approximate the function into the RT space.  Such an approximation *liberates its tangential component from continuity constraints, while preserving the normal continuity.*\n",
    "\n",
    "\n",
    "The implementation of the RT space $R_{hp}$ in NGSolve is accessed using `ng.HDiv`. The `Set` method, as in other finite element spaces in NGSolve, can be used to perform the Oswald approximation. The procedure for Oswald approximation, [already described previously](OneDim.ipynb), is the same for all finite element spaces: one first $L_2$-projects (component by component) the (vector) function to be approximated into each local finite element space, and then assigns to every coupling degree of freedom the average of the degrees of freedom of the projection that were fused to form that coupling degree of freedom.\n",
    "\n",
    "```{index} Oswald approximation; vector elements\n",
    "```\n",
    "\n",
    "```{index} Raviart-Thomas space; HDiv\n",
    "```"
   ]
  },
  {
   "cell_type": "markdown",
   "id": "fc6e1371-22e1-4550-afe0-f09a46fac1c3",
   "metadata": {},
   "source": [
    "The $p$ in the next code cell indicates the polynomial degree in the definition of $R_{hp}$ above. Note that the lowest order case is $p=0$."
   ]
  },
  {
   "cell_type": "code",
   "execution_count": 6,
   "id": "ea11826b",
   "metadata": {},
   "outputs": [],
   "source": [
    "p = 5   # This is the p in the definition of R_hp above\n",
    "R = ng.HDiv(mesh, order=p, RT=True)"
   ]
  },
  {
   "cell_type": "code",
   "execution_count": 7,
   "id": "48b998c9",
   "metadata": {},
   "outputs": [
    {
     "name": "stdout",
     "output_type": "stream",
     "text": [
      "Error in RT interpolation = 2.4319667352337606e-11\n"
     ]
    }
   ],
   "source": [
    "qh = GridFunction(R)\n",
    "qh.Set(q)\n",
    "print('Error in RT interpolation =', \n",
    "      ng.sqrt(ng.Integrate((q - qh)**2, mesh)))"
   ]
  },
  {
   "cell_type": "markdown",
   "id": "a186bb74",
   "metadata": {},
   "source": [
    "Compare this to what happens when we interpolate the same function in the product of two Lagrange finite element spaces."
   ]
  },
  {
   "cell_type": "code",
   "execution_count": 8,
   "id": "f96e0972-b98d-496a-9321-c675aa263141",
   "metadata": {},
   "outputs": [
    {
     "name": "stdout",
     "output_type": "stream",
     "text": [
      "Error in product Lagrange space interpolation = 0.11081020823065106\n"
     ]
    }
   ],
   "source": [
    "V2 = ng.VectorH1(mesh, order=p)  # Cartesian product of Lagrange spaces\n",
    "qq = GridFunction(V2)\n",
    "qq.Set(q)\n",
    "print('Error in product Lagrange space interpolation =', \n",
    "      ng.sqrt(ng.Integrate((q - qq)**2, mesh)))"
   ]
  },
  {
   "cell_type": "markdown",
   "id": "cf8c746e",
   "metadata": {},
   "source": [
    "Clearly the error in the product space approach is much higher than that of the error produced by the RT space. The source of the large error while interpolating using  `ng.VectorH1` is immediately evident if you plot the $y$-component of the interpolant `qq` or the error.  The interpolant, being continuous in both components, has a difficult time approximating the discontinuous component, as seen from the plot of the error below."
   ]
  },
  {
   "cell_type": "code",
   "execution_count": 9,
   "id": "848bca3b",
   "metadata": {},
   "outputs": [
    {
     "data": {
      "application/vnd.jupyter.widget-view+json": {
       "model_id": "31090e68267548f2af24e89275d450b0",
       "version_major": 2,
       "version_minor": 0
      },
      "text/plain": [
       "WebGuiWidget(layout=Layout(height='50vh', width='100%'), value={'gui_settings': {}, 'ngsolve_version': '6.2.25…"
      ]
     },
     "metadata": {},
     "output_type": "display_data"
    }
   ],
   "source": [
    "Draw(qq - q, mesh, 'Lagrange interpolation error', vectors={'grid_size': 25});"
   ]
  },
  {
   "cell_type": "markdown",
   "id": "bc5354e5",
   "metadata": {},
   "source": [
    "### Shape functions\n",
    "\n",
    "It is illustrative to visualize the basis functions of the RT space. Recall that basis functions dual to the set of degrees of freedom are called shape functions. Since we cannot visualize the degrees of freedom functionals, visualizing shape functions is one way to understand what degrees of freedom are implemented in a code.  Here is a visualization of a shape function of the *lowest order RT space* (the $p=0$ case)."
   ]
  },
  {
   "cell_type": "code",
   "execution_count": 10,
   "id": "6b23d41d",
   "metadata": {},
   "outputs": [
    {
     "data": {
      "application/vnd.jupyter.widget-view+json": {
       "model_id": "01dee4a56b3e4aa783a8dece20ec825f",
       "version_major": 2,
       "version_minor": 0
      },
      "text/plain": [
       "WebGuiWidget(layout=Layout(height='50vh', width='100%'), value={'gui_settings': {}, 'ngsolve_version': '6.2.25…"
      ]
     },
     "metadata": {},
     "output_type": "display_data"
    }
   ],
   "source": [
    "R = ng.HDiv(mesh, order=0, RT=True)\n",
    "\n",
    "shapenumber = 15\n",
    "shape = ng.GridFunction(R, name='shape')\n",
    "shape.vec[:] = 0\n",
    "shape.vec[shapenumber] = 1\n",
    "Draw(shape, mesh, vectors={'grid_size': 20});"
   ]
  },
  {
   "cell_type": "markdown",
   "id": "6499b053",
   "metadata": {},
   "source": [
    "You can see any shape function you wish by revising the `shapenumber` in the code above. In all cases, you see that\n",
    "- the shape functions are vector fields whose normal components are continuous, \n",
    "- they are supported on a patch of one or two elements, \n",
    "- their normal component is zero on all mesh facets except one.\n",
    "\n",
    "\n",
    "Thus in the lowest order case, each shape function is associated to a single mesh facet (an edge,  in our 2D mesh). If this edge is on the domain boundary, the  shape function is supported on one triangle. If the edge is an interior edge, the  shape function is supported on the two triangles which share the interior edge.\n",
    "\n",
    "One can also directly see the connection between the number of mesh facets and the dimension of the lowest order RT space by querying both numbers:"
   ]
  },
  {
   "cell_type": "code",
   "execution_count": 11,
   "id": "5bbd8d89",
   "metadata": {},
   "outputs": [
    {
     "data": {
      "text/plain": [
       "50"
      ]
     },
     "execution_count": 11,
     "metadata": {},
     "output_type": "execute_result"
    }
   ],
   "source": [
    "mesh.nfacet"
   ]
  },
  {
   "cell_type": "code",
   "execution_count": 12,
   "id": "746b3dc4",
   "metadata": {},
   "outputs": [
    {
     "data": {
      "text/plain": [
       "50"
      ]
     },
     "execution_count": 12,
     "metadata": {},
     "output_type": "execute_result"
    }
   ],
   "source": [
    "R.ndof"
   ]
  },
  {
   "cell_type": "code",
   "execution_count": null,
   "id": "7cdb1123-2dd7-47fb-a983-c1a93fd237ed",
   "metadata": {},
   "outputs": [],
   "source": []
  },
  {
   "cell_type": "code",
   "execution_count": 13,
   "id": "30b110a0-41c4-491e-87d1-7abde0d178a8",
   "metadata": {},
   "outputs": [
    {
     "data": {
      "text/plain": [
       "ngsolve.comp.MeshNode"
      ]
     },
     "execution_count": 13,
     "metadata": {},
     "output_type": "execute_result"
    }
   ],
   "source": [
    "el0 = mesh[ng.NodeId(ng.ELEMENT, 0)]\n",
    "type(el0)"
   ]
  },
  {
   "cell_type": "code",
   "execution_count": 14,
   "id": "9a013953-6b9e-4951-85e9-260a8ee2e7b5",
   "metadata": {},
   "outputs": [
    {
     "data": {
      "text/plain": [
       "50"
      ]
     },
     "execution_count": 14,
     "metadata": {},
     "output_type": "execute_result"
    }
   ],
   "source": [
    "mesh.nedge"
   ]
  },
  {
   "cell_type": "code",
   "execution_count": 15,
   "id": "da8072cc-d6db-439d-aa0b-b2b1b0db472d",
   "metadata": {
    "scrolled": true
   },
   "outputs": [
    {
     "data": {
      "text/plain": [
       "(<ngsolve.comp.ElementId at 0x12151db30>,\n",
       " <ngsolve.comp.ElementId at 0x12152c9b0>)"
      ]
     },
     "execution_count": 15,
     "metadata": {},
     "output_type": "execute_result"
    }
   ],
   "source": [
    "from ngsolve import EDGE, NodeId\n",
    "e = NodeId(EDGE, mesh.nedge-1)\n",
    "meshe = mesh[e] \n",
    "meshe.elements"
   ]
  },
  {
   "cell_type": "code",
   "execution_count": 16,
   "id": "8b05df85-0fb1-443b-9d27-f09919f2bf43",
   "metadata": {},
   "outputs": [
    {
     "name": "stdout",
     "output_type": "stream",
     "text": [
      "(<ngsolve.comp.ElementId object at 0x12151d630>, <ngsolve.comp.ElementId object at 0x12151e970>)\n"
     ]
    }
   ],
   "source": [
    "print(meshe.elements)"
   ]
  },
  {
   "cell_type": "code",
   "execution_count": 17,
   "id": "a5710e87-6e0a-402f-a643-a30e854689d5",
   "metadata": {},
   "outputs": [],
   "source": [
    "Rd = ng.Discontinuous(ng.HDiv(mesh, order=0, RT=True))"
   ]
  },
  {
   "cell_type": "code",
   "execution_count": 18,
   "id": "8462f41c-df8d-45e2-aad0-568df2202248",
   "metadata": {},
   "outputs": [
    {
     "data": {
      "text/plain": [
       "((57, 58, 59), (63, 64, 65))"
      ]
     },
     "execution_count": 18,
     "metadata": {},
     "output_type": "execute_result"
    }
   ],
   "source": [
    "Rd.GetDofNrs(meshe.elements[0]), Rd.GetDofNrs(meshe.elements[1])"
   ]
  },
  {
   "cell_type": "code",
   "execution_count": 19,
   "id": "c5139ee5-46fc-4081-8dd0-30e15d53f934",
   "metadata": {},
   "outputs": [
    {
     "data": {
      "application/vnd.jupyter.widget-view+json": {
       "model_id": "7c3a2ad7f0f64ec29bd5592233817458",
       "version_major": 2,
       "version_minor": 0
      },
      "text/plain": [
       "WebGuiWidget(layout=Layout(height='50vh', width='100%'), value={'gui_settings': {}, 'ngsolve_version': '6.2.25…"
      ]
     },
     "metadata": {},
     "output_type": "display_data"
    }
   ],
   "source": [
    "shapenumber = 1\n",
    "shape = ng.GridFunction(R, name='shape')\n",
    "shape.vec[:] = 0\n",
    "shape.vec[shapenumber] = 1\n",
    "Draw(shape, mesh, vectors={'grid_size': 20});"
   ]
  },
  {
   "cell_type": "code",
   "execution_count": null,
   "id": "9eb6b896-696c-41db-a63f-18d86151254a",
   "metadata": {},
   "outputs": [],
   "source": []
  },
  {
   "cell_type": "code",
   "execution_count": 20,
   "id": "91f9b384-295a-49d9-aa3f-35a88c6d7125",
   "metadata": {},
   "outputs": [
    {
     "data": {
      "application/vnd.jupyter.widget-view+json": {
       "model_id": "b5747b0b2ec64b3cad05bd7ef9f11a4b",
       "version_major": 2,
       "version_minor": 0
      },
      "text/plain": [
       "WebGuiWidget(layout=Layout(height='50vh', width='100%'), value={'gui_settings': {}, 'ngsolve_version': '6.2.25…"
      ]
     },
     "metadata": {},
     "output_type": "display_data"
    }
   ],
   "source": [
    "shapenumber = 4\n",
    "shape = ng.GridFunction(R, name='shape')\n",
    "shape.vec[:] = 0\n",
    "shape.vec[shapenumber] = 1\n",
    "Draw(shape, mesh, vectors={'grid_size': 20});"
   ]
  },
  {
   "cell_type": "markdown",
   "id": "7398f6ac",
   "metadata": {},
   "source": [
    "Of course, for higher $p$, a number of additional shape functions must be added. You can easily visualize the higher order shape functions by tweaking the above few lines of code."
   ]
  },
  {
   "cell_type": "markdown",
   "id": "17f34d93-c917-43d3-bb4c-6e13f39ea2eb",
   "metadata": {},
   "source": [
    "### Convergence of divergence"
   ]
  },
  {
   "cell_type": "markdown",
   "id": "b2ec85be-9766-4286-ad88-f5ae1bdf6514",
   "metadata": {},
   "source": [
    "Ordinarily, when a piecewise polynomial approximation of a function $q$ converges in $L_2$ at some rate, we expect its derivatives to converge at a lower rate. We already saw this rate reduction in a [prior notebook](Rates.ipynb)."
   ]
  },
  {
   "cell_type": "markdown",
   "id": "c00b1277-d967-4463-900d-3949af7065ab",
   "metadata": {},
   "source": [
    "However,  somewhat miraculously, the Raviart-Thomas finite element interpolant $I_h^{RT} q$ has the property that $\\newcommand{\\dive}{\\mathrm{div}} \\dive(I_h^{RT} q - q)$ converges at the same rate as $I_h^{RT} q - q$.  To obtain this interpolant in NGSolve, we use the `Set` method with `dual=True` option. We then compute the errors on successively refined meshes and tabulate the convergence rates much the same way as in a [previous notebook](B_ProjectionBAE.ipynb)."
   ]
  },
  {
   "cell_type": "code",
   "execution_count": 26,
   "id": "1ef3c445-e84a-4303-aad0-d943b19e46ae",
   "metadata": {},
   "outputs": [],
   "source": [
    "from prettytable import PrettyTable\n",
    "\n",
    "def InterpolateOnSuccessiveRefinements(q, divq, mesh0, p=0, nrefinements=8):                                   \n",
    "    \"\"\"Error in RT interpolant on a sequence of uniformly refined meshes.\"\"\"\n",
    "      \n",
    "    errors = []; diverrors = []; \n",
    "    mesh = ng.Mesh(mesh0.ngmesh.Copy())\n",
    "    \n",
    "    for ref in range(nrefinements): \n",
    "        RT0 = ng.HDiv(mesh, order=p , RT=True)\n",
    "        qh = GridFunction(RT0)\n",
    "        qh.Set(q, dual=True)   # Gives the canonical interpolant\n",
    "        \n",
    "        err = ng.sqrt(ng.Integrate((q - qh)**2, mesh))\n",
    "        diverr = ng.sqrt(ng.Integrate((divq - div(qh))**2, mesh))\n",
    "        errors.append(err); diverrors.append(diverr)      \n",
    "        mesh.ngmesh.Refine()\n",
    "\n",
    "    return np.array(errors), np.array(diverrors)\n",
    "\n",
    "def TabulateRate(name, dat, h0=1):\n",
    "    col = ['h', name, 'rate'];  h0col = ['%g'%h0]\n",
    "    t = PrettyTable()\n",
    "    t.add_column(col[0], h0col + [h0col[0] + '/' + str(2**i) for i in range(1, len(dat))])\n",
    "    t.add_column(col[1], ['%.12f'%e for e in dat])\n",
    "    t.add_column(col[2], ['*'] +  ['%1.2f' % r for r in np.log(dat[:-1]/dat[1:])/np.log(2)])\n",
    "    print(t)"
   ]
  },
  {
   "cell_type": "markdown",
   "id": "bcae4f24-ccb5-45ef-b5b3-b56506854542",
   "metadata": {},
   "source": [
    "To obtain the convergence tables, we call these functions with the above set discontinuous vector field $q$. By the formula for distributional divergence of discontinuous fields from the lectures, we find that $\\dive(q)$ has no edge distributions and can simply be given piecewise as follows:"
   ]
  },
  {
   "cell_type": "code",
   "execution_count": 22,
   "id": "04e23ea8-2d25-4216-a8f7-0ce9a8583fbb",
   "metadata": {},
   "outputs": [],
   "source": [
    "divq = mesh.MaterialCF({'lft': cos(x)+1, 'rgt': cos(x)-1})"
   ]
  },
  {
   "cell_type": "markdown",
   "id": "a84eb63b-eb7c-425e-9c73-f72429e0cd22",
   "metadata": {},
   "source": [
    "Using `q` and `divq`, we compute the errors and tabulate the rates:"
   ]
  },
  {
   "cell_type": "code",
   "execution_count": 23,
   "id": "8469b513-499e-455c-a376-a2a653ce5d21",
   "metadata": {},
   "outputs": [
    {
     "name": "stdout",
     "output_type": "stream",
     "text": [
      "+----------+-----------------+------+\n",
      "|    h     | ||q - IhRT(q)|| | rate |\n",
      "+----------+-----------------+------+\n",
      "|   0.25   |  0.069664540643 |  *   |\n",
      "|  0.25/2  |  0.037147230392 | 0.91 |\n",
      "|  0.25/4  |  0.019223329290 | 0.95 |\n",
      "|  0.25/8  |  0.009781789379 | 0.97 |\n",
      "| 0.25/16  |  0.004934318342 | 0.99 |\n",
      "| 0.25/32  |  0.002478122438 | 0.99 |\n",
      "| 0.25/64  |  0.001241815197 | 1.00 |\n",
      "| 0.25/128 |  0.000621597722 | 1.00 |\n",
      "+----------+-----------------+------+\n",
      "+----------+----------------------+------+\n",
      "|    h     | ||div(q - IhRT(q))|| | rate |\n",
      "+----------+----------------------+------+\n",
      "|   0.25   |    0.184130711628    |  *   |\n",
      "|  0.25/2  |    0.179541241866    | 0.04 |\n",
      "|  0.25/4  |    0.141028834747    | 0.35 |\n",
      "|  0.25/8  |    0.104310336249    | 0.44 |\n",
      "| 0.25/16  |    0.075322310053    | 0.47 |\n",
      "| 0.25/32  |    0.053804209711    | 0.49 |\n",
      "| 0.25/64  |    0.038235769046    | 0.49 |\n",
      "| 0.25/128 |    0.027103820642    | 0.50 |\n",
      "+----------+----------------------+------+\n"
     ]
    }
   ],
   "source": [
    "err, diverr = InterpolateOnSuccessiveRefinements(q, divq, mesh)\n",
    "TabulateRate('||q - IhRT(q)||', err, h0=1/4)\n",
    "TabulateRate('||div(q - IhRT(q))||', diverr, h0=1/4)"
   ]
  },
  {
   "cell_type": "markdown",
   "id": "bad4a082-1e69-408d-b9d9-1aae1a6b5ad0",
   "metadata": {},
   "source": [
    "**Questions for discussion:**\n",
    "\n",
    "- What is the rate if you use the Oswald approximation instead of the canonical RT interpolant?\n",
    "- Is the divergence computed in `divq` above "
   ]
  },
  {
   "cell_type": "markdown",
   "id": "34217333",
   "metadata": {},
   "source": [
    "## The Nédélec finite element space"
   ]
  },
  {
   "cell_type": "markdown",
   "id": "df96864a-7e96-445e-9163-f3c97e828b58",
   "metadata": {},
   "source": [
    "Consider the curl operator in two space dimensions, acting on a vector field $u \\equiv \\begin{bmatrix}u_0 \\\\ u_1 \\end{bmatrix}: \\varOmega \\to \\mathbb R^2$, \n",
    "\n",
    "$$\n",
    "\\newcommand{\\curl}{\\mathop{\\mathrm{curl}}}\n",
    "\\curl u = \\frac{\\partial u_1}{\\partial x}  - \\frac{\\partial u_0}{\\partial y}.\n",
    "$$\n",
    "\n",
    "You have  worked with $\\curl$ as an operator acting on three-dimensional (3D) vector fields. The above two-dimensional (2D) version is the obtained as the $z$-component of the 3D curl when applied to a vector field that has only $x$ and $y$ components with no $z$ dependence. It takes a 2D vector field $u$ and produces a scalar function $\\curl u$."
   ]
  },
  {
   "cell_type": "markdown",
   "id": "b4e6ce64",
   "metadata": {},
   "source": [
    "This 2D curl is intimately related to the 2D divergence. To see this, let $J_{\\pi/2}$ denote the operator that rotates a vector clockwise by 90 degrees, i.e., \n",
    "\n",
    "$$\n",
    "J_{\\pi/2} \n",
    "\\begin{pmatrix}\n",
    "a \\\\ b\n",
    "\\end{pmatrix} = \n",
    "\\begin{pmatrix}\n",
    "b \\\\ -a\n",
    "\\end{pmatrix}.\n",
    "$$\n",
    "\n",
    "Now, if two vector fields $u$ and $q$ are related by  \n",
    "\n",
    "$$\n",
    "u = J_{\\pi/2} q \n",
    "$$\n",
    "\n",
    "then obviously \n",
    "\n",
    "$$ \\newcommand{\\dive}{\\mathop{\\mathrm{div}}}\n",
    "\\dive q =  \\curl u.\n",
    "$$"
   ]
  },
  {
   "cell_type": "markdown",
   "id": "2f1b885e",
   "metadata": {},
   "source": [
    "Moreover, if $t$ denotes the counterclockwise unit tangent vector on element boundaries, then it is related to the unit outward normal $n$ at the same boundary point by \n",
    "\n",
    "$$\n",
    "J_{\\pi/2} n = t.\n",
    "$$\n",
    "\n",
    "Hence \n",
    "\n",
    "$$\n",
    "u\\cdot t = q \\cdot n.\n",
    "$$\n",
    "\n",
    "Thus the condition that   &LeftDoubleBracket; $q\\cdot n$ &RightDoubleBracket; $= 0$\n",
    "is equivalent to the condition that the *jump of the tangential component* of $u$ vanish, \n",
    "&LeftDoubleBracket; $u\\cdot t$ &RightDoubleBracket; $= 0.$\n",
    "The definition of the *tangential jump* &LeftDoubleBracket; $u\\cdot t$ &RightDoubleBracket; on an interface $F = \\partial K_+ \\cap \\partial K_-$ is completely analogous to how we defined the normal jump and just involves replacing $n_\\pm$ in that definition (1) with $t_\\pm$."
   ]
  },
  {
   "cell_type": "markdown",
   "id": "48e4d63c",
   "metadata": {},
   "source": [
    "We define the  **Nédélec space in two dimensions** $N_{hp}$ as the rotated RT space, i.e., \n",
    "\n",
    "$$\n",
    "N_{hp} := J_{\\pi/2} R_{hp}.  \n",
    "$$\n",
    "\n",
    "It consists of piecewise polynomial vector fields that are *tangentially continuous*. Applying the rotation operator $J_{\\pi/2}$ to the polynomial functions in our previous definition of $R_{hp}$, we also find that $N_{hp}$ can be equivalently described  by \n",
    "\n",
    "$$\n",
    "\\newcommand{\\curl}{\\mathop{\\mathrm{curl}}}\\newcommand{\\om}{\\varOmega}\n",
    "\\begin{aligned}\n",
    "N_{hp} =\n",
    "\\Big\\{\n",
    "u : \\; \\newcommand{\\jump}{\\mathop{\\mathrm{jump}}}\n",
    " & \n",
    " u|_K \\in P_p(K)^2 + \\begin{pmatrix} -y \\\\ x \\end{pmatrix} P_p(K)\n",
    " \\text{ on all elements } K, \n",
    "\\\\ \n",
    "&\\text{ and } \\jump(u\\cdot t) =0  \\text{ on all interior mesh facets}\n",
    " \\Big\\}.\n",
    "\\end{aligned}\n",
    "$$\n",
    "\n",
    "Here, the vector $(-y, x)$ arises as the rotation of the vector $(x, y)$ used in the RT space definition."
   ]
  },
  {
   "cell_type": "markdown",
   "id": "f31e0e8e-7d18-4add-9bad-5e0391397890",
   "metadata": {},
   "source": [
    "Note that although the **2D** Nédélec space is isomorphic to the 2D Raviart-Thomas space (via $J_{\\pi/2}$), the **3D** Nédélec space seen in the lectures is  truly different from the 3D Raviart-Thomas space. (You can be convinced of this by counting their dimensions.)\n",
    "\n",
    "NGSolve provides an implementation of the Nedelec space in 2D and 3D accessible through `HCurl` as follows."
   ]
  },
  {
   "cell_type": "code",
   "execution_count": 24,
   "id": "71854c3c",
   "metadata": {},
   "outputs": [],
   "source": [
    "N = ng.HCurl(mesh, order=0, type1=True)"
   ]
  },
  {
   "cell_type": "code",
   "execution_count": 25,
   "id": "22c7972f",
   "metadata": {},
   "outputs": [
    {
     "data": {
      "application/vnd.jupyter.widget-view+json": {
       "model_id": "1cdf8df1555547549646e35c2d395e95",
       "version_major": 2,
       "version_minor": 0
      },
      "text/plain": [
       "WebGuiWidget(layout=Layout(height='50vh', width='100%'), value={'gui_settings': {}, 'ngsolve_version': '6.2.25…"
      ]
     },
     "metadata": {},
     "output_type": "display_data"
    }
   ],
   "source": [
    "shapenumber = 15\n",
    "shape = GridFunction(N, name='shape')\n",
    "shape.vec[:] = 0\n",
    "shape.vec[shapenumber] = 1\n",
    "Draw(shape, mesh, vectors={'grid_size': 30});"
   ]
  },
  {
   "cell_type": "markdown",
   "id": "339cb7f7",
   "metadata": {},
   "source": [
    "As you can see, this shape function visually appears to be exactly the same shape function plotted earlier for the RT case, except for a rotation by 90 degrees.  Note how the tangential component of the shape function varies continuously across the edges. Just as the RT space was useful for interpolating vector fields with normal continuity, the Nédélec  space is useful for interpolating vector fields with tangential continuity. "
   ]
  },
  {
   "cell_type": "markdown",
   "id": "8fae970b-7800-4b60-bd65-8a7e1565c6c6",
   "metadata": {},
   "source": [
    "The Nédélec  finite element is sometimes called the **edge finite element** in some engineering literature. Interestingly, the shape functions of the RT and the Nedelec element were known in another mathematical context (they appeared in a 1957 book by Whitney) long before these elements were known. In recognition of this, mathematicians sometimes refer to these shape functions as **Whitney forms**: what we have plotted above are indeed some scalar multiples of Whitney forms.  Their expressions in terms of barycentric coordinates are left as exercises.  \n",
    "\n",
    "```{index} Whitney forms\n",
    "```"
   ]
  },
  {
   "cell_type": "markdown",
   "id": "2eaee08a-cf13-4f8f-8549-ef1b16fad1e1",
   "metadata": {},
   "source": [
    "**Questions for discussion:**\n",
    "\n",
    "- Would the 2D curl of the canonical Nédélec interpolant superconverge? "
   ]
  },
  {
   "cell_type": "markdown",
   "id": "a2cc9040-4762-49ac-8381-8752d3720a9f",
   "metadata": {},
   "source": [
    "## Summary"
   ]
  },
  {
   "cell_type": "markdown",
   "id": "6ffaea48-604e-47a5-8899-55adddd1fe74",
   "metadata": {},
   "source": [
    "We have seen\n",
    "\n",
    "- the RT space with normal continuity,\n",
    "- the Nédélec space with tangential continuity,\n",
    "- that in 2D, one is obtained by a rotation of the other,\n",
    "- the scalar 2D curl operator and its relation to divergence,\n",
    "- how to interpolate vector fields with normal or tangential continuity using these spaces,\n",
    "- the shape functions of these spaces,\n",
    "- the superconvergence of divergence "
   ]
  }
 ],
 "metadata": {
  "kernelspec": {
   "display_name": "Python 3 (ipykernel)",
   "language": "python",
   "name": "python3"
  },
  "language_info": {
   "codemirror_mode": {
    "name": "ipython",
    "version": 3
   },
   "file_extension": ".py",
   "mimetype": "text/x-python",
   "name": "python",
   "nbconvert_exporter": "python",
   "pygments_lexer": "ipython3",
   "version": "3.14.0"
  }
 },
 "nbformat": 4,
 "nbformat_minor": 5
}
