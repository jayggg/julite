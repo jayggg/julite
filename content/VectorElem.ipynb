{
 "cells": [
  {
   "cell_type": "markdown",
   "id": "4d2b92db",
   "metadata": {},
   "source": [
    "# Vector elements in 2D\n"
   ]
  },
  {
   "cell_type": "markdown",
   "id": "dd3a1c4f",
   "metadata": {},
   "source": [
    "The finite element spaces we have seen so far, such as  the Lagrange, the DG, and the nonconforming finite element spaces, are all spaces of *scalar*-valued functions. How can we approximate  *vector fields*?  We could certainly use a Cartesian product of  scalar finite element spaces to approximate a vector field component by component. However, better properties can often be obtained using tailored vector finite element spaces, such as the *Raviart-Thomas* space or the *Nedelec* space. In this notebook we see how to access these spaces in ngsolve and compute with them."
   ]
  },
  {
   "cell_type": "markdown",
   "id": "cc1eb500",
   "metadata": {},
   "source": [
    "## The Raviart-Thomas space"
   ]
  },
  {
   "cell_type": "markdown",
   "id": "1abc5232-699e-4a4b-a3c1-fdfe301930c9",
   "metadata": {},
   "source": [
    "$\\newcommand{\\om}{\\varOmega}\n",
    "\\newcommand{\\oh}{\\varOmega_h}\n",
    "\\newcommand{\\dive}{\\mathop{\\mathrm{div}}}\n",
    "\\newcommand{\\grad}{\\mathop{\\mathrm{grad}}}\n",
    "\\renewcommand{\\div}{\\mathop{\\mathrm{div}}}\n",
    "\\newcommand{\\R}{\\mathbb{R}}\n",
    "\\newcommand{\\jump}{\\mathop{\\mathrm{jump}}}\n",
    "$\n",
    "Consider a facet $F$ shared by two adjacent elements $K^\\pm$ in two-dimensional mesh $\\oh$ of a domain $\\om$. In a [previous](BestApprox.ipynb) notebook, we examined jumps of a scalar piecewise function $w$ on the mesh, written as &LeftDoubleBracket; $ w$ &RightDoubleBracket; or simply $\\jump(w)$. Here, we consider jumps of the normal component of a piecewise smooth *vector* field $q: \\om \\to \\R^2$ across the facet $F$. Define &LeftDoubleBracket; $q\\cdot n$ &RightDoubleBracket;, also denoted by $\\jump(q\\cdot n)$, by \n",
    "\n",
    "$$\\tag{1}\n",
    "\\jump(q \\cdot n)|_F := \\Big(q|_{K^+} \\cdot n_+ + q|_{K^-} \\cdot n_-\\Big) \\Big|_F,\n",
    "$$\n",
    "\n",
    "where $n^\\pm$ denote the outward unit normal on the boundary of the element $K^\\pm$. Since the sign of $n_+$  and $n_-$ are opposite on $F$, this indeed measures the discontinuity in the normal component of $q$. This definition, facet by facet, defines the *normal jump* function $\\jump(q \\cdot n)$ of the vector field $q$ on the union of all interior facets. (Note that this jump definition if independent of the facet orientation.)\n",
    "\n",
    "```{index} jump; of normal component\n",
    "```\n",
    "\n",
    "```{index} jump; orientation-independent definition\n",
    "```"
   ]
  },
  {
   "cell_type": "markdown",
   "id": "3635cd43",
   "metadata": {},
   "source": [
    "The Raviart-Thomas (RT) finite element space on a two-dimensional mesh $\\newcommand{\\oh}{\\varOmega_h}$ $\\oh$ (of a domain $\\om$) is defined by \n",
    "\n",
    "$$\n",
    "\\begin{aligned}\n",
    "R_{hp} =\n",
    "\\Big\\{\n",
    "q : \\; \\newcommand{\\jump}{\\mathop{\\mathrm{jump}}}\n",
    " & q|_K \\in P_p(K)^2 + \\begin{pmatrix} x \\\\ y \\end{pmatrix} P_p(K) \\;\n",
    " \\text{ on all mesh elements } K, \n",
    "\\\\ \n",
    "&\\text{ and } \\jump(q\\cdot n) =0  \\text{ on all interior mesh facets}\n",
    " \\Big\\}\n",
    "\\end{aligned}\n",
    "$$\n",
    "\n",
    "for any $p \\ge 0$. Here, $P_p(K)$ denote the set of polynomials of degree at most $p$. From the definition, it is clear  that  plots of any function in the RT space should show a possibly discontinuous vector field with a *continuously varying normal component* across the interior mesh facets."
   ]
  },
  {
   "cell_type": "markdown",
   "id": "a4c9c359",
   "metadata": {},
   "source": [
    "The continuity of the normal component is a useful property to have when we know that the  function being approximated has that same normal continuity property. *Fluxes*, such as the flux of a fluid flow, current flow, or magnetic flux,  are examples of vector fields whose normal components  remain continuous across a material interface, even when its other components jump across the interface."
   ]
  },
  {
   "cell_type": "markdown",
   "id": "86a6e6b6",
   "metadata": {},
   "source": [
    "### Approximation\n",
    "\n",
    "Consider approximating the following vector field  using the RT space:  \n",
    "\n",
    "$$\n",
    "q = \n",
    "\\left\\{\n",
    "\\begin{aligned}\n",
    "& (\\sin(x), y),  && x \\le 1/2,\n",
    "\\\\\n",
    "& (\\sin(x), 1-y), && x > 1/2.\n",
    "\\end{aligned}\n",
    "\\right.\n",
    "$$\n",
    "\n",
    "Across the interface $x=1/2$, its normal component (the $x$-component in this case) is continuous, while its tangential component is discontinuous. Let's plot $q$ after making two subdomains to the left and right of the $x=1/2$ line. "
   ]
  },
  {
   "cell_type": "code",
   "execution_count": null,
   "id": "9cb91f34-9d6f-4b43-bbf3-a4feb7c3561a",
   "metadata": {},
   "outputs": [],
   "source": [
    "import ngsolve as ng\n",
    "import numpy as np\n",
    "from ngsolve.webgui import Draw\n",
    "from netgen.occ import OCCGeometry ,WorkPlane, Rectangle, Glue\n",
    "from ngsolve import x, y, sin, cos, GridFunction, div, curl\n",
    "\n",
    "wp = WorkPlane()  # Make left and right subdomains\n",
    "lft = wp.Rectangle(1/2, 1).Face()\n",
    "rgt = wp.MoveTo(1/2,0).Rectangle(1/2, 1).Face()\n",
    "lft.faces.name = 'lft'; rgt.faces.name = 'rgt'\n",
    "\n",
    "geo = Glue([lft,rgt])\n",
    "Draw(geo);\n",
    "mesh = ng.Mesh(OCCGeometry(geo, dim=2).GenerateMesh(maxh=1/4))"
   ]
  },
  {
   "cell_type": "markdown",
   "id": "f9c597b2-4bab-41f0-859f-f14ef774b035",
   "metadata": {},
   "source": [
    "We make the needed piecewise constant coefficient function using the `MaterialCF` method in ngsolve.\n",
    "\n",
    "```{index} piecewise constant; subdomain by subdomain\n",
    "```"
   ]
  },
  {
   "cell_type": "code",
   "execution_count": null,
   "id": "407439b8-fbd9-4368-8daa-20394077a02d",
   "metadata": {},
   "outputs": [],
   "source": [
    "q = mesh.MaterialCF({'lft': (sin(x), y),   # Piecewise q on the left & right subdomains\n",
    "                     'rgt': (sin(x), 1-y)})"
   ]
  },
  {
   "cell_type": "markdown",
   "id": "519589af",
   "metadata": {},
   "source": [
    "The normal component (which is the $x$ component in this case) of $q$ is smooth:"
   ]
  },
  {
   "cell_type": "code",
   "execution_count": null,
   "id": "c704fe44",
   "metadata": {},
   "outputs": [],
   "source": [
    "Draw(q[0], mesh);"
   ]
  },
  {
   "cell_type": "markdown",
   "id": "4b5f075e",
   "metadata": {},
   "source": [
    "The tangential component of $q$ is discontinuous across the middle interface."
   ]
  },
  {
   "cell_type": "code",
   "execution_count": null,
   "id": "ef56975d",
   "metadata": {},
   "outputs": [],
   "source": [
    "Draw(q[1], mesh);"
   ]
  },
  {
   "cell_type": "markdown",
   "id": "220b67a3",
   "metadata": {},
   "source": [
    "We can also plot $q$ as a vector field."
   ]
  },
  {
   "cell_type": "code",
   "execution_count": null,
   "id": "534b46a3",
   "metadata": {},
   "outputs": [],
   "source": [
    "Draw(q, mesh, vectors={'grid_size': 15});"
   ]
  },
  {
   "cell_type": "markdown",
   "id": "91bdbafb",
   "metadata": {},
   "source": [
    "If we try to interpolate such a function using a product of Lagrange spaces, then the discontinuity at the interface will generate large interpolation errors. (We have [already seen](BestApprox.ipynb) a similar phenomena around discontinuities of scalar function approximation.)  Instead, knowing that the normal component is continuous, we can try to approximate the function into the RT space.  Such an approximation *liberates its tangential component from continuity constraints, while preserving the normal continuity.*\n",
    "\n",
    "\n",
    "The implementation of the RT space $R_{hp}$ in NGSolve is accessed using `ng.HDiv`. The `Set` method, as in other finite element spaces in NGSolve, can be used to perform the Oswald approximation. The procedure for Oswald approximation, [already described previously](OneDim.ipynb), is the same for all finite element spaces: one first $L_2$-projects (component by component) the (vector) function to be approximated into each local finite element space, and then assigns to every coupling degree of freedom the average of the degrees of freedom of the projection that were fused to form that coupling degree of freedom.\n",
    "\n",
    "```{index} Oswald approximation; vector elements\n",
    "```\n",
    "\n",
    "```{index} Raviart-Thomas space; HDiv\n",
    "```"
   ]
  },
  {
   "cell_type": "markdown",
   "id": "fc6e1371-22e1-4550-afe0-f09a46fac1c3",
   "metadata": {},
   "source": [
    "The $p$ in the next code cell indicates the polynomial degree in the definition of $R_{hp}$ above. Note that the lowest order case is $p=0$."
   ]
  },
  {
   "cell_type": "code",
   "execution_count": null,
   "id": "ea11826b",
   "metadata": {},
   "outputs": [],
   "source": [
    "p = 5   # This is the p in the definition of R_hp above\n",
    "R = ng.HDiv(mesh, order=p, RT=True)"
   ]
  },
  {
   "cell_type": "code",
   "execution_count": null,
   "id": "48b998c9",
   "metadata": {},
   "outputs": [],
   "source": [
    "qh = GridFunction(R)\n",
    "qh.Set(q)\n",
    "print('Error in RT interpolation =', \n",
    "      ng.sqrt(ng.Integrate((q - qh)**2, mesh)))"
   ]
  },
  {
   "cell_type": "markdown",
   "id": "a186bb74",
   "metadata": {},
   "source": [
    "Compare this to what happens when we interpolate the same function in the product of two Lagrange finite element spaces."
   ]
  },
  {
   "cell_type": "code",
   "execution_count": null,
   "id": "f96e0972-b98d-496a-9321-c675aa263141",
   "metadata": {},
   "outputs": [],
   "source": [
    "V2 = ng.VectorH1(mesh, order=p)  # Cartesian product of Lagrange spaces\n",
    "qq = GridFunction(V2)\n",
    "qq.Set(q)\n",
    "print('Error in product Lagrange space interpolation =', \n",
    "      ng.sqrt(ng.Integrate((q - qq)**2, mesh)))"
   ]
  },
  {
   "cell_type": "markdown",
   "id": "cf8c746e",
   "metadata": {},
   "source": [
    "Clearly the error in the product space approach is much higher than that of the error produced by the RT space. The source of the large error while interpolating using  `ng.VectorH1` is immediately evident if you plot the $y$-component of the interpolant `qq` or the error.  The interpolant, being continuous in both components, has a difficult time approximating the discontinuous component."
   ]
  },
  {
   "cell_type": "code",
   "execution_count": null,
   "id": "848bca3b",
   "metadata": {},
   "outputs": [],
   "source": [
    "Draw(qq - q, mesh, 'Lagrange interpolation error', vectors={'grid_size': 25});"
   ]
  },
  {
   "cell_type": "markdown",
   "id": "bc5354e5",
   "metadata": {},
   "source": [
    "### Shape functions\n",
    "\n",
    "It is illustrative to visualize the basis functions of the RT space. Recall that basis functions dual to the set of degrees of freedom are called shape functions. Since we cannot visualize the degrees of freedom functionals, visualizing shape functions is one way to understand what degrees of freedom are implemented in a code.  Here is a visualization of a shape function of the *lowest order RT space* (the $p=0$ case)."
   ]
  },
  {
   "cell_type": "code",
   "execution_count": null,
   "id": "6b23d41d",
   "metadata": {},
   "outputs": [],
   "source": [
    "R = ng.HDiv(mesh, order=0, RT=True)\n",
    "\n",
    "shapenumber = 15\n",
    "shape = ng.GridFunction(R, name='shape')\n",
    "shape.vec[:] = 0\n",
    "shape.vec[shapenumber] = 1\n",
    "Draw(shape, mesh, vectors={'grid_size': 20});"
   ]
  },
  {
   "cell_type": "markdown",
   "id": "6499b053",
   "metadata": {},
   "source": [
    "You can see any shape function you wish by revising the `shapenumber` in the code above. In all cases, you see that\n",
    "- the shape functions are vector fields whose normal components are continuous, \n",
    "- they are supported on a patch of one or two elements, \n",
    "- their normal component is zero on all mesh facets except one.\n",
    "\n",
    "\n",
    "Thus in the lowest order case, each shape function is associated to a single mesh facet (an edge,  in our 2D mesh). If this edge is on the domain boundary, the  shape function is supported on one triangle. If the edge is an interior edge, the  shape function is supported on the two triangles which share the interior edge.\n",
    "\n",
    "One can also directly see the connection between the number of mesh facets and the dimension of the lowest order RT space by querying both numbers:"
   ]
  },
  {
   "cell_type": "code",
   "execution_count": null,
   "id": "5bbd8d89",
   "metadata": {},
   "outputs": [],
   "source": [
    "mesh.nfacet"
   ]
  },
  {
   "cell_type": "code",
   "execution_count": null,
   "id": "746b3dc4",
   "metadata": {},
   "outputs": [],
   "source": [
    "R.ndof"
   ]
  },
  {
   "cell_type": "markdown",
   "id": "7398f6ac",
   "metadata": {},
   "source": [
    "Of course, for higher $p$, a number of additional shape functions must be added. You can easily visualize the higher order shape functions by tweaking the above few lines of code."
   ]
  },
  {
   "cell_type": "markdown",
   "id": "34217333",
   "metadata": {},
   "source": [
    "## The Nédélec finite element space"
   ]
  },
  {
   "cell_type": "markdown",
   "id": "df96864a-7e96-445e-9163-f3c97e828b58",
   "metadata": {},
   "source": [
    "Consider the curl operator in two space dimensions, acting on a vector field $u \\equiv \\begin{bmatrix}u_0 \\\\ u_1 \\end{bmatrix}: \\om \\to \\R^2$, \n",
    "\n",
    "$$\n",
    "\\newcommand{\\curl}{\\mathop{\\mathrm{curl}}}\n",
    "\\curl u = \\frac{\\partial u_1}{\\partial x}  - \\frac{\\partial u_0}{\\partial y}.\n",
    "$$\n",
    "\n",
    "You have  worked with $\\curl$ as an operator acting on three-dimensional (3D) vector fields. The above two-dimensional (2D) version is the obtained as the $z$-component of the 3D curl when applied to a vector field that has only $x$ and $y$ components with no $z$ dependence. It takes a 2D vector field $u$ and produces a scalar function $\\curl u$."
   ]
  },
  {
   "cell_type": "markdown",
   "id": "b4e6ce64",
   "metadata": {},
   "source": [
    "This 2D curl is intimately related to the 2D divergence. To see this, let $J_{\\pi/2}$ denote the operator that rotates a vector clockwise by 90 degrees, i.e., \n",
    "\n",
    "$$\n",
    "J_{\\pi/2} \n",
    "\\begin{pmatrix}\n",
    "a \\\\ b\n",
    "\\end{pmatrix} = \n",
    "\\begin{pmatrix}\n",
    "b \\\\ -a\n",
    "\\end{pmatrix}.\n",
    "$$\n",
    "\n",
    "Now, if two vector fields $u$ and $q$ are related by  \n",
    "\n",
    "$$\n",
    "u = J_{\\pi/2} q \n",
    "$$\n",
    "\n",
    "then obviously \n",
    "\n",
    "$$\n",
    "\\dive q =  \\curl u.\n",
    "$$"
   ]
  },
  {
   "cell_type": "markdown",
   "id": "2f1b885e",
   "metadata": {},
   "source": [
    "Moreover, if $t$ denotes the counterclockwise unit tangent vector on element boundaries, then it is related to the unit outward normal $n$ at the same boundary point by \n",
    "\n",
    "$$\n",
    "J_{\\pi/2} n = t.\n",
    "$$\n",
    "\n",
    "Hence \n",
    "\n",
    "$$\n",
    "u\\cdot t = q \\cdot n.\n",
    "$$\n",
    "\n",
    "Thus the condition that   &LeftDoubleBracket; $q\\cdot n$ &RightDoubleBracket; $= 0$\n",
    "is equivalent to the condition that the *jump of the tangential component* of $u$ vanish, \n",
    "&LeftDoubleBracket; $u\\cdot t$ &RightDoubleBracket; $= 0.$\n",
    "The definition of the *tangential jump* &LeftDoubleBracket; $u\\cdot t$ &RightDoubleBracket; on an interface $F = \\partial K_+ \\cap \\partial K_-$ is completely analogous to how we defined the normal jump and just involves replacing $n_\\pm$ in that definition (1) with $t_\\pm$."
   ]
  },
  {
   "cell_type": "markdown",
   "id": "48e4d63c",
   "metadata": {},
   "source": [
    "We define the  **Nédélec space in two dimensions** as the RT space rotated:\n",
    "\n",
    "$$\n",
    "N_{hp} := J_{\\pi/2} R_{hp}.  \n",
    "$$\n",
    "\n",
    "It consists of piecewise polynomial vector fields that are *tangentially continuous*. Applying the rotation operator $J_{\\pi/2}$ to the polynomial functions in our previous definition of $R_{hp}$, we also find that $N_{hp}$ can be equivalently described  by \n",
    "\n",
    "$$\n",
    "N_{hp} = \n",
    "\\left\\{\n",
    "u\\in H(\\curl, \\om) : \\;\\text{ for all elements }  K \\in \\oh, \\quad \n",
    "u|_K \\in P_p(K)^2 + \\begin{pmatrix} -y \\\\ x \\end{pmatrix} P_p(K) \\; \\right\\}.\n",
    "$$\n"
   ]
  },
  {
   "cell_type": "markdown",
   "id": "f31e0e8e-7d18-4add-9bad-5e0391397890",
   "metadata": {},
   "source": [
    "Note that although the **2D** Nédélec space is isomorphic to the 2D Raviart-Thomas space (via $J_{\\pi/2}$), the **3D** Nédélec space is a truly different from the 3D Raviart-Thomas space - convince yourselves by counting their dimensions. \n",
    "\n",
    "NGSolve provides an implementation of the Nedelec space in 2D and 3D accessible through `HCurl` as follows."
   ]
  },
  {
   "cell_type": "code",
   "execution_count": null,
   "id": "71854c3c",
   "metadata": {},
   "outputs": [],
   "source": [
    "N = ng.HCurl(mesh, order=0, type1=True)"
   ]
  },
  {
   "cell_type": "code",
   "execution_count": null,
   "id": "22c7972f",
   "metadata": {},
   "outputs": [],
   "source": [
    "shapenumber = 15\n",
    "shape = GridFunction(N, name='shape')\n",
    "shape.vec[:] = 0\n",
    "shape.vec[shapenumber] = 1\n",
    "Draw(shape, mesh, vectors={'grid_size': 30});"
   ]
  },
  {
   "cell_type": "markdown",
   "id": "339cb7f7",
   "metadata": {},
   "source": [
    "As you can see, this shape function visually appears to be exactly the same shape function plotted earlier for the RT case, except for a rotation by 90 degrees.  Note how the tangential component of the shape function varies continuously across the edges. Just as the RT space was useful for interpolating vector fields with normal continuity, the Nedelec space is useful for interpolating vector fields with tangential continuity. "
   ]
  },
  {
   "cell_type": "markdown",
   "id": "8fae970b-7800-4b60-bd65-8a7e1565c6c6",
   "metadata": {},
   "source": [
    "The Nedelec finite element is sometimes called the **edge finite element** in some engineering literature. Interestingly, the shape functions of the RT and the Nedelec element were known in another mathematical context (they appeared in a 1957 book by Whitney) long before these elements were known. In recognition of this, mathematicians sometimes refer to these shape functions as **Whitney forms**. Their expressions in terms of barycentric coordinates are left as exercises.  "
   ]
  }
 ],
 "metadata": {
  "kernelspec": {
   "display_name": "Python 3 (ipykernel)",
   "language": "python",
   "name": "python3"
  },
  "language_info": {
   "codemirror_mode": {
    "name": "ipython",
    "version": 3
   },
   "file_extension": ".py",
   "mimetype": "text/x-python",
   "name": "python",
   "nbconvert_exporter": "python",
   "pygments_lexer": "ipython3",
   "version": "3.14.0"
  }
 },
 "nbformat": 4,
 "nbformat_minor": 5
}
